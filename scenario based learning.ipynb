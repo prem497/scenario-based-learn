{
 "cells": [
  {
   "cell_type": "code",
   "execution_count": null,
   "id": "8973b204",
   "metadata": {},
   "outputs": [],
   "source": []
  },
  {
   "cell_type": "code",
   "execution_count": null,
   "id": "61b30038",
   "metadata": {},
   "outputs": [],
   "source": [
    "Scenario based learning\n",
    "A company works with number of employees, all the works are dependents on the employees. Even \n",
    "if one of the employees resign the job immediately then assigned work will be not finished at the \n",
    "time, so delivery of the project to the clients will be delayed. Company planned to make solution for \n",
    "this, they want to know which employee may resign next. If they know previously, they can arrange \n",
    "alternative to avoid such problem. As an AI Engineer you must give Solution to this. \n",
    "A) How will you achieve this in AI? \n",
    "B) Find out the 3 -Stage of Problem Identification \n",
    "C) Name the project \n",
    "D) Create the dummy Dataset.\n",
    " Answer \n",
    "a)\tUnderstand the client requirement and collect the information  from the client .then based on the accurate data will predict next who will resign \n",
    "b)\tMachine learning-> supervised-> classification \n",
    "c)\temployee job resign predication\n",
    "d)\tdummy data\n",
    "Name  Employee Reg no age Current status\n",
    "raj     245678         24 resigned\n",
    "priya   245678         45 Currently working\n",
    "raj     786549         31 Resigned \n",
    "\n",
    "\n",
    "\n",
    "\n"
   ]
  }
 ],
 "metadata": {
  "kernelspec": {
   "display_name": "Python 3 (ipykernel)",
   "language": "python",
   "name": "python3"
  },
  "language_info": {
   "codemirror_mode": {
    "name": "ipython",
    "version": 3
   },
   "file_extension": ".py",
   "mimetype": "text/x-python",
   "name": "python",
   "nbconvert_exporter": "python",
   "pygments_lexer": "ipython3",
   "version": "3.11.5"
  }
 },
 "nbformat": 4,
 "nbformat_minor": 5
}
